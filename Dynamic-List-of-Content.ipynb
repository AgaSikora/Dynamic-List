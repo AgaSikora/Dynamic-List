{
 "cells": [
  {
   "cell_type": "markdown",
   "id": "91499701",
   "metadata": {},
   "source": [
    "Sub lista_1()\n",
    " \n",
    "Range(\"B4:B100\").Clear\n",
    " \n",
    "Dim Katalog As String\n",
    "Dim NazwaPliku As String\n",
    "Dim IndexSheet As Worksheet\n",
    "Dim KolejnyWiersz As Long\n",
    " \n",
    "KolejnyWiersz = 4\n",
    " \n",
    "Set IndexSheet = ThisWorkbook.ActiveSheet\n",
    "Katalog = Range(\"B2\").Value\n",
    "Katalog = Katalog & \"\\\"\n",
    "NazwaPliku = Dir(Katalog)\n",
    "Do While NazwaPliku <> \"\"\n",
    "IndexSheet.Cells(KolejnyWiersz, 2).Formula = \"=hyperlink(\"\"\" & Katalog & NazwaPliku & \"\"\",\"\"\" & NazwaPliku & \"\"\")\"\n",
    "KolejnyWiersz = KolejnyWiersz + 1\n",
    "NazwaPliku = Dir\n",
    "Loop\n",
    " \n",
    "Set IndexSheet = Nothing\n",
    " End Sub ()"
   ]
  }
 ],
 "metadata": {
  "kernelspec": {
   "display_name": "Python 3 (ipykernel)",
   "language": "python",
   "name": "python3"
  },
  "language_info": {
   "codemirror_mode": {
    "name": "ipython",
    "version": 3
   },
   "file_extension": ".py",
   "mimetype": "text/x-python",
   "name": "python",
   "nbconvert_exporter": "python",
   "pygments_lexer": "ipython3",
   "version": "3.11.4"
  }
 },
 "nbformat": 4,
 "nbformat_minor": 5
}
